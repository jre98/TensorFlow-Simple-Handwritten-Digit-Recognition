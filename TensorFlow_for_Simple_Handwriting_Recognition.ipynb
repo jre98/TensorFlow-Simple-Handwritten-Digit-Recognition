{
  "nbformat": 4,
  "nbformat_minor": 0,
  "metadata": {
    "colab": {
      "provenance": [],
      "authorship_tag": "ABX9TyN8eSh86mtPue75gMJZwfa8",
      "include_colab_link": true
    },
    "kernelspec": {
      "name": "python3",
      "display_name": "Python 3"
    },
    "language_info": {
      "name": "python"
    },
    "gpuClass": "standard"
  },
  "cells": [
    {
      "cell_type": "markdown",
      "metadata": {
        "id": "view-in-github",
        "colab_type": "text"
      },
      "source": [
        "<a href=\"https://colab.research.google.com/github/jre98/TensorFlow-Simple-Handwritten-Digit-Recognition/blob/main/TensorFlow_for_Simple_Handwriting_Recognition.ipynb\" target=\"_parent\"><img src=\"https://colab.research.google.com/assets/colab-badge.svg\" alt=\"Open In Colab\"/></a>"
      ]
    },
    {
      "cell_type": "markdown",
      "source": [
        "### **Code Block for Part 1 - Training a Fully Connected Neural Network**\n",
        "\n",
        "\n",
        "\n",
        "\n",
        "\n",
        "\n",
        "\n",
        "\n"
      ],
      "metadata": {
        "id": "9kvJVLhfP8lF"
      }
    },
    {
      "cell_type": "markdown",
      "source": [
        "*Part 1a) Import libraries, load and flatten data, and split into Training and Test Sets.*"
      ],
      "metadata": {
        "id": "P3cXzGI1Qpi5"
      }
    },
    {
      "cell_type": "code",
      "execution_count": null,
      "metadata": {
        "id": "G1qeZu5fbHzJ"
      },
      "outputs": [],
      "source": [
        "# Import necessary libraries\n",
        "import numpy as np\n",
        "import sklearn as sk\n",
        "from sklearn import datasets\n",
        "from sklearn.model_selection import train_test_split\n",
        "import tensorflow as tf\n",
        "import matplotlib.pyplot as mpl\n",
        "import random as rand\n",
        "\n",
        "# Load dataset\n",
        "all_digits = datasets.load_digits()\n",
        "# Determine the number of samples we have for reshaping data\n",
        "n_samples = len(all_digits.images)\n",
        "# Actually flatten the data; use -1 as the second argument in order to automatically \n",
        "# determine the number of columns based on the size of the original image\n",
        "data = all_digits.images.reshape((n_samples, -1))\n",
        "\n",
        "# Separate data into training sets and test sets with a 20% split\n",
        "X_train, X_test, Y_train, Y_test = sk.model_selection.train_test_split(data, all_digits.target, test_size = 0.2)\n"
      ]
    },
    {
      "cell_type": "markdown",
      "source": [
        "\n",
        "*Part 1b) Create, train, and evaluate model on training and test sets. Also get weights and biases for each layer after network is trained.*"
      ],
      "metadata": {
        "id": "E3--stokRFNu"
      }
    },
    {
      "cell_type": "code",
      "source": [
        "# Define model architecture, we use a sequential model\n",
        "model = tf.keras.Sequential()\n",
        "\n",
        "# First layer (only need to specify input_shape a single time in the first layer)\n",
        "model.add(tf.keras.layers.Dense(25, input_shape=(X_train.shape[1],), activation = 'sigmoid'))\n",
        "\n",
        "# Second layer\n",
        "model.add(tf.keras.layers.Dense(40, activation = 'sigmoid'))\n",
        "\n",
        "# Third layer\n",
        "model.add(tf.keras.layers.Dense(25, activation = 'sigmoid'))\n",
        "\n",
        "# Output Layer - Has 10 units/neurons as there are 10 possible classes each image could fall\n",
        "# into (numbers 0 through 9). Uses softmax instead of sigmoid, as this gave best predictions\n",
        "output_layer = model.add(tf.keras.layers.Dense(10, activation = 'softmax'))\n",
        "\n",
        "\n",
        "# Compile model\n",
        "model.compile(optimizer= 'adam', loss='sparse_categorical_crossentropy', metrics=['accuracy'])\n",
        "\n",
        "# Train model\n",
        "model.fit(X_train, Y_train, epochs=25, batch_size=15)\n",
        "\n",
        "# Get weights and biases at each layer in the network\n",
        "W1 = model.layers[0].get_weights()[0]\n",
        "B1 = model.layers[0].get_weights()[1]\n",
        "\n",
        "W2 = model.layers[1].get_weights()[0]\n",
        "B2 = model.layers[1].get_weights()[1]\n",
        "\n",
        "W3 = model.layers[2].get_weights()[0]\n",
        "B3 = model.layers[2].get_weights()[1]\n",
        "\n",
        "W_output = model.layers[3].get_weights()[0]\n",
        "B_output = model.layers[3].get_weights()[1]\n",
        "\n",
        "\n",
        "\n",
        "# evaluate model on training set\n",
        "print(\"\\n\\nEvaluating Model on training set:\")\n",
        "train_loss, train_acc = model.evaluate(X_train, Y_train)\n",
        "\n",
        "# evaluate model on test set\n",
        "print(\"\\n\\nEvaluating model on test set:\")\n",
        "test_loss, test_acc = model.evaluate(X_test, Y_test)\n",
        "\n",
        "# Use predict method to predict the values in X_test for use in plotting later\n",
        "keras_output = model.predict(X_test)\n",
        "keras_predictions = np.argmax(keras_output, axis=1)\n",
        "\n",
        "\n",
        "\n"
      ],
      "metadata": {
        "id": "iW_UfcryRGDG",
        "colab": {
          "base_uri": "https://localhost:8080/"
        },
        "outputId": "7398f6b5-a369-474a-dda1-356296ce4e60"
      },
      "execution_count": null,
      "outputs": [
        {
          "output_type": "stream",
          "name": "stdout",
          "text": [
            "Epoch 1/25\n",
            "96/96 [==============================] - 1s 2ms/step - loss: 2.3144 - accuracy: 0.1441\n",
            "Epoch 2/25\n",
            "96/96 [==============================] - 0s 2ms/step - loss: 2.1917 - accuracy: 0.4482\n",
            "Epoch 3/25\n",
            "96/96 [==============================] - 0s 2ms/step - loss: 2.0375 - accuracy: 0.5839\n",
            "Epoch 4/25\n",
            "96/96 [==============================] - 0s 2ms/step - loss: 1.8049 - accuracy: 0.6994\n",
            "Epoch 5/25\n",
            "96/96 [==============================] - 0s 2ms/step - loss: 1.5504 - accuracy: 0.7265\n",
            "Epoch 6/25\n",
            "96/96 [==============================] - 0s 2ms/step - loss: 1.3186 - accuracy: 0.7857\n",
            "Epoch 7/25\n",
            "96/96 [==============================] - 0s 2ms/step - loss: 1.1156 - accuracy: 0.8281\n",
            "Epoch 8/25\n",
            "96/96 [==============================] - 0s 2ms/step - loss: 0.9415 - accuracy: 0.8573\n",
            "Epoch 9/25\n",
            "96/96 [==============================] - 0s 2ms/step - loss: 0.7967 - accuracy: 0.8852\n",
            "Epoch 10/25\n",
            "96/96 [==============================] - 0s 2ms/step - loss: 0.6744 - accuracy: 0.9144\n",
            "Epoch 11/25\n",
            "96/96 [==============================] - 0s 2ms/step - loss: 0.5742 - accuracy: 0.9276\n",
            "Epoch 12/25\n",
            "96/96 [==============================] - 0s 2ms/step - loss: 0.4900 - accuracy: 0.9360\n",
            "Epoch 13/25\n",
            "96/96 [==============================] - 0s 2ms/step - loss: 0.4165 - accuracy: 0.9450\n",
            "Epoch 14/25\n",
            "96/96 [==============================] - 0s 2ms/step - loss: 0.3561 - accuracy: 0.9555\n",
            "Epoch 15/25\n",
            "96/96 [==============================] - 0s 2ms/step - loss: 0.3094 - accuracy: 0.9631\n",
            "Epoch 16/25\n",
            "96/96 [==============================] - 0s 2ms/step - loss: 0.2710 - accuracy: 0.9617\n",
            "Epoch 17/25\n",
            "96/96 [==============================] - 0s 2ms/step - loss: 0.2383 - accuracy: 0.9680\n",
            "Epoch 18/25\n",
            "96/96 [==============================] - 0s 2ms/step - loss: 0.2153 - accuracy: 0.9715\n",
            "Epoch 19/25\n",
            "96/96 [==============================] - 0s 2ms/step - loss: 0.1900 - accuracy: 0.9756\n",
            "Epoch 20/25\n",
            "96/96 [==============================] - 0s 2ms/step - loss: 0.1707 - accuracy: 0.9749\n",
            "Epoch 21/25\n",
            "96/96 [==============================] - 0s 2ms/step - loss: 0.1550 - accuracy: 0.9798\n",
            "Epoch 22/25\n",
            "96/96 [==============================] - 0s 2ms/step - loss: 0.1404 - accuracy: 0.9826\n",
            "Epoch 23/25\n",
            "96/96 [==============================] - 0s 2ms/step - loss: 0.1274 - accuracy: 0.9840\n",
            "Epoch 24/25\n",
            "96/96 [==============================] - 0s 2ms/step - loss: 0.1174 - accuracy: 0.9861\n",
            "Epoch 25/25\n",
            "96/96 [==============================] - 0s 2ms/step - loss: 0.1068 - accuracy: 0.9882\n",
            "\n",
            "\n",
            "Evaluating Model on training set:\n",
            "45/45 [==============================] - 0s 2ms/step - loss: 0.0965 - accuracy: 0.9903\n",
            "\n",
            "\n",
            "Evaluating model on test set:\n",
            "12/12 [==============================] - 0s 2ms/step - loss: 0.2168 - accuracy: 0.9444\n",
            "12/12 [==============================] - 0s 2ms/step\n"
          ]
        }
      ]
    },
    {
      "cell_type": "markdown",
      "source": [
        "As we can see from the results of running the above cells, the network gradually increases its accuracy on the training set with each run through the epoch, eventually reaching accuracy of >90% on the training set. When evaluated on the test set, the model is >90% accurate as well, although its accuracy is less than on the training set. This is to be expected, as the model has not seen the test set, and it would not be reasonable to expect 100% accuracy."
      ],
      "metadata": {
        "id": "z4QQMb9DY-GB"
      }
    },
    {
      "cell_type": "markdown",
      "source": [
        "### **Code Block for Part 2 - Implementing Forward Poropagation using Numpy**\n"
      ],
      "metadata": {
        "id": "mECRnMqsQTSs"
      }
    },
    {
      "cell_type": "markdown",
      "source": [
        "*Part 2a) define functions that will be used by forward propagation algorithm*"
      ],
      "metadata": {
        "id": "y5f5anqGP7g1"
      }
    },
    {
      "cell_type": "code",
      "source": [
        "# Define the linear function, this is the dot product of the activations from the\n",
        "# previous layer and the transposed weights \n",
        "def linear(W, A_previous):\n",
        "  Z = np.dot(A_previous, W.T)\n",
        "  return Z\n",
        "\n",
        "# Define the sigmoid activation function (as this is what is used in the first three \n",
        "# layers). This is the non-linear part (from book)\n",
        "def sigmoid(z):\n",
        "  ans = 1 / (1 + np.exp(-z))\n",
        "  return ans\n",
        "\n",
        "# Define softmax function, as this is what is used for the output layer (from book);\n",
        "# this is also a non-linear function\n",
        "def softmax(z):\n",
        "  exp_z = np.exp(z)\n",
        "  return exp_z / exp_z.sum()\n",
        "\n",
        "# Function to propagate through one layer of the network\n",
        "def forward_prop(W, B, A_previous, activation_func):\n",
        "  # Apply the linear function to obtain Z\n",
        "  Z = linear(W.T, A_previous)\n",
        "  # Append bias vector to Z after reshaping bias to ensure dimensions match\n",
        "  Z += B.reshape(1, -1)\n",
        "  # Append bias term to activation values from previous layer\n",
        "  A_previous = np.append(A_previous, [1])\n",
        "  # Apply non-linear activation function to obtain activations\n",
        "  A = activation_func(Z)\n",
        "  return A\n"
      ],
      "metadata": {
        "id": "xrNZihLdbK8z"
      },
      "execution_count": null,
      "outputs": []
    },
    {
      "cell_type": "markdown",
      "source": [
        "The reason I chose sigmoid for the first three layers and softmax for the output layer is because I found in the book and online resources that softmax tends to produce the best results as the output layer activation function. As for sigmoid, I found this function to give the most accurate prediction for the model."
      ],
      "metadata": {
        "id": "6O3EiD3cZpGZ"
      }
    },
    {
      "cell_type": "markdown",
      "source": [
        "*Part 2b) use functions to forward propagate through each layer in the network, then obtain predictions made by network*"
      ],
      "metadata": {
        "id": "D5n6AFDhSi48"
      }
    },
    {
      "cell_type": "code",
      "source": [
        "# Using X_test as our input to the network, we forward propagate through the whole \n",
        "# network layer by layer\n",
        "\n",
        "# ~~~~~~ 1st Layer ~~~~~~ #\n",
        "# Call forward_prop function using initial inputs, then store resulting activations \n",
        "A1 = forward_prop(W1, B1, X_test, sigmoid)\n",
        "\n",
        "# ~~~~~~ 2nd Layer ~~~~~~ #\n",
        "# Call forward_prop function using previous layer actiavtions, then store \n",
        "# resulting activations\n",
        "A2 = forward_prop(W2, B2, A1, sigmoid)\n",
        "\n",
        "\n",
        "# ~~~~~~ 3rd Layer ~~~~~~ #\n",
        "# Call forward_prop function using previous layer actiavtions, then store \n",
        "# resulting activations\n",
        "A3 = forward_prop(W3, B3, A2, sigmoid)\n",
        "\n",
        "# ~~~~~~ Output Layer ~~~~~~ #\n",
        "# Call forward_prop function using previous layer actiavtions, then store \n",
        "# resulting activations (the outputs of the network)\n",
        "A_output = forward_prop(W_output, B_output, A3, softmax)\n",
        "\n",
        "\n",
        "# Now that we have the outputs of the network, we want to find the prediction for\n",
        "# each value in X_test. We do this by using the argmax function to find the maximum \n",
        "# value from each row (hence the axis=1)\n",
        "# Store these predictions in a variable for comaprison against true values\n",
        "f_p_predictions = np.argmax(A_output, axis=1)\n"
      ],
      "metadata": {
        "id": "O0mD72uhbKtc"
      },
      "execution_count": null,
      "outputs": []
    },
    {
      "cell_type": "markdown",
      "source": [
        "### **Code Block for Part 3) Compare Accuracies From Part 1) and 2) and Verify Results by Plotting Images**\n",
        "\n",
        "\n",
        "\n",
        "\n"
      ],
      "metadata": {
        "id": "nMKBfNkMTCmX"
      }
    },
    {
      "cell_type": "markdown",
      "source": [
        "*Part 3a) Compute accuracy of forward propagation predictions and compare against accuracy of original neural network*"
      ],
      "metadata": {
        "id": "PiFAtbmFUTfZ"
      }
    },
    {
      "cell_type": "code",
      "source": [
        "# Verify that the predictions and X_test arrays are the same size, ensuring that \n",
        "# have one prediction for each value in X_test\n",
        "print(\"Length of 'predictions' is:\" , len(f_p_predictions))\n",
        "print(\"Length of 'X_test' is:\", len(X_test))\n",
        "\n",
        "# Find the number of correct predictions, done by determining the number of times\n",
        "# the values in predictions and Y_test are equal, then summing all these instances \n",
        "num_correct = np.sum(f_p_predictions == Y_test)\n",
        "\n",
        "# Print out how many correct predictions were made\n",
        "print(\"The number of correct predictions was:\", num_correct)\n",
        "\n",
        "# Find and store accuracy of forward propagation predictions\n",
        "f_p_accuracy = (num_correct / len(f_p_predictions))\n",
        "# Normalize format of percentage for easier readability\n",
        "f_p_accuracy = round(f_p_accuracy, 4) * 100\n",
        "print(\"\\nThis represents an accuracy of {}% for the forward propagation predictions.\".format(f_p_accuracy))\n",
        "\n",
        "# Normalize format of test accuracy percentage for easier readability\n",
        "network_accur = round(test_acc, 4) * 100\n",
        "print(\"The test accuracy as given by the neural network model was {}%\".format(network_accur))\n"
      ],
      "metadata": {
        "colab": {
          "base_uri": "https://localhost:8080/"
        },
        "id": "s1EgM6iPTAlt",
        "outputId": "a870c1e0-611a-462f-8341-93b3abeda09f"
      },
      "execution_count": null,
      "outputs": [
        {
          "output_type": "stream",
          "name": "stdout",
          "text": [
            "Length of 'predictions' is: 360\n",
            "Length of 'X_test' is: 360\n",
            "The number of correct predictions was: 340\n",
            "\n",
            "This represents an accuracy of 94.44% for the forward propagation predictions.\n",
            "The test accuracy as given by the neural network model was 94.44%\n"
          ]
        }
      ]
    },
    {
      "cell_type": "markdown",
      "source": [
        "As we can see from the output above, the accuracies are the same when predicted by the Keras library and the forward propagation implementation."
      ],
      "metadata": {
        "id": "bSKxte5AbTJ-"
      }
    },
    {
      "cell_type": "markdown",
      "source": [
        "*Part 3b) Plot images of several results from each class to verify results*"
      ],
      "metadata": {
        "id": "oVYLKxvkVG12"
      }
    },
    {
      "cell_type": "code",
      "source": [
        "# Plotting first randomly chosen value\n",
        "\n",
        "# Choose a random index in the range of the size of X_test\n",
        "rand_index = rand.randint(0, len(X_test))\n",
        "# Reshape value at that index into an 8x8 array to plot it\n",
        "temp = X_test[rand_index].reshape(8, 8)\n",
        "# Plot the image and add a title\n",
        "mpl.imshow(temp, \"gray\")\n",
        "mpl.gcf().suptitle(\"First Image\")\n",
        "\n",
        "# Print out the predicted values from the Keras model and the forward propagation \n",
        "# algorithm, in addition to the true target value\n",
        "print(\"The Keras neural network predicted this value to be a: {}\".format(keras_predictions[rand_index]))\n",
        "print(\"The forward propagation algorithm predicted this value to be a: {}\".format(f_p_predictions[rand_index]))\n",
        "print(\"The actual target value (true value) is a: {}\".format(Y_test[rand_index]))"
      ],
      "metadata": {
        "id": "NI9R5AOKVOla",
        "colab": {
          "base_uri": "https://localhost:8080/",
          "height": 109
        },
        "outputId": "f9733da3-e399-4ce3-ed54-7ccc9f7472af"
      },
      "execution_count": null,
      "outputs": [
        {
          "output_type": "stream",
          "name": "stdout",
          "text": [
            "The Keras neural network predicted this value to be a: 7\n",
            "The forward propagation algorithm predicted this value to be a: 7\n",
            "The actual target value (true value) is a: 7\n"
          ]
        },
        {
          "output_type": "display_data",
          "data": {
            "text/plain": [
              "<Figure size 432x288 with 1 Axes>"
            ],
            "image/png": "[encoded data removed]"
          },
          "metadata": {
            "needs_background": "light"
          }
        }
      ]
    },
    {
      "cell_type": "code",
      "source": [
        "# Plotting second randomly chosen value\n",
        "\n",
        "# Choose a random index in the range of the size of X_test\n",
        "rand_index = rand.randint(0, len(X_test))\n",
        "# Reshape value at that index into an 8x8 array to plot it\n",
        "temp = X_test[rand_index].reshape(8, 8)\n",
        "# Plot the image and add a title\n",
        "mpl.imshow(temp, \"gray\")\n",
        "mpl.gcf().suptitle(\"Second Image\")\n",
        "\n",
        "# Print out the predicted values from the Keras model and the forward propagation \n",
        "# algorithm, in addition to the true target value\n",
        "print(\"The Keras neural network predicted this value to be a: {}\".format(keras_predictions[rand_index]))\n",
        "print(\"The forward propagation algorithm predicted this value to be a: {}\".format(f_p_predictions[rand_index]))\n",
        "print(\"The actual target value (true value) is a: {}\".format(Y_test[rand_index]))"
      ],
      "metadata": {
        "colab": {
          "base_uri": "https://localhost:8080/",
          "height": 109
        },
        "id": "jy7TgdzXVmpb",
        "outputId": "0e190256-b6ae-4d2c-ec2c-5e79ef6045b3"
      },
      "execution_count": null,
      "outputs": [
        {
          "output_type": "stream",
          "name": "stdout",
          "text": [
            "The Keras neural network predicted this value to be a: 7\n",
            "The forward propagation algorithm predicted this value to be a: 7\n",
            "The actual target value (true value) is a: 1\n"
          ]
        },
        {
          "output_type": "display_data",
          "data": {
            "text/plain": [
              "<Figure size 432x288 with 1 Axes>"
            ],
            "image/png": "[encoded data removed]"
          },
          "metadata": {
            "needs_background": "light"
          }
        }
      ]
    },
    {
      "cell_type": "code",
      "source": [
        "# Plotting third randomly chosen value\n",
        "\n",
        "# Choose a random index in the range of the size of X_test\n",
        "rand_index = rand.randint(0, len(X_test))\n",
        "# Reshape value at that index into an 8x8 array to plot it\n",
        "temp = X_test[rand_index].reshape(8, 8)\n",
        "# Plot the image and add a title\n",
        "mpl.imshow(temp, \"gray\")\n",
        "mpl.gcf().suptitle(\"Third Image\")\n",
        "\n",
        "# Print out the predicted values from the Keras model and the forward propagation \n",
        "# algorithm, in addition to the true target value\n",
        "print(\"The Keras neural network predicted this value to be a: {}\".format(keras_predictions[rand_index]))\n",
        "print(\"The forward propagation algorithm predicted this value to be a: {}\".format(f_p_predictions[rand_index]))\n",
        "print(\"The actual target value (true value) is a: {}\".format(Y_test[rand_index]))"
      ],
      "metadata": {
        "colab": {
          "base_uri": "https://localhost:8080/",
          "height": 109
        },
        "id": "cKq1quV5VtA9",
        "outputId": "173d7ebd-5eac-4a19-94cf-7534022e1518"
      },
      "execution_count": null,
      "outputs": [
        {
          "output_type": "stream",
          "name": "stdout",
          "text": [
            "The Keras neural network predicted this value to be a: 1\n",
            "The forward propagation algorithm predicted this value to be a: 1\n",
            "The actual target value (true value) is a: 1\n"
          ]
        },
        {
          "output_type": "display_data",
          "data": {
            "text/plain": [
              "<Figure size 432x288 with 1 Axes>"
            ],
            "image/png": "[encoded data removed]"
          },
          "metadata": {
            "needs_background": "light"
          }
        }
      ]
    },
    {
      "cell_type": "code",
      "source": [
        "# Plotting fourth randomly chosen value\n",
        "\n",
        "# Choose a random index in the range of the size of X_test\n",
        "rand_index = rand.randint(0, len(X_test))\n",
        "# Reshape value at that index into an 8x8 array to plot it\n",
        "temp = X_test[rand_index].reshape(8, 8)\n",
        "# Plot the image and add a title\n",
        "mpl.imshow(temp, \"gray\")\n",
        "mpl.gcf().suptitle(\"Fourth Image\")\n",
        "\n",
        "# Print out the predicted values from the Keras model and the forward propagation \n",
        "# algorithm, in addition to the true target value\n",
        "print(\"The Keras neural network predicted this value to be a: {}\".format(keras_predictions[rand_index]))\n",
        "print(\"The forward propagation algorithm predicted this value to be a: {}\".format(f_p_predictions[rand_index]))\n",
        "print(\"The actual target value (true value) is a: {}\".format(Y_test[rand_index]))"
      ],
      "metadata": {
        "colab": {
          "base_uri": "https://localhost:8080/",
          "height": 109
        },
        "id": "yXteHCXuVtYs",
        "outputId": "b7714a86-5db4-4582-b428-61d01f5e2f71"
      },
      "execution_count": null,
      "outputs": [
        {
          "output_type": "stream",
          "name": "stdout",
          "text": [
            "The Keras neural network predicted this value to be a: 4\n",
            "The forward propagation algorithm predicted this value to be a: 4\n",
            "The actual target value (true value) is a: 4\n"
          ]
        },
        {
          "output_type": "display_data",
          "data": {
            "text/plain": [
              "<Figure size 432x288 with 1 Axes>"
            ],
            "image/png": "[encoded data removed]"
          },
          "metadata": {
            "needs_background": "light"
          }
        }
      ]
    }
  ]
}